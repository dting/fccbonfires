{
 "cells": [
  {
   "cell_type": "markdown",
   "metadata": {},
   "source": [
    "# [Bonfire: Return Largest Numbers in Arrays](http://freecodecamp.com/challenges/bonfire-return-largest-numbers-in-arrays)\n",
    "\n",
    "Return an array consisting of the largest number from each provided sub-array. For simplicity, the provided array will contain exactly 4 sub-arrays.\n",
    "\n",
    "Remember, you can iterate through an array with a simple for loop, and access each member with array syntax arr[i] .\n",
    "\n",
    "If you are writing your own Chai.js tests, be sure to use a deep equal statement instead of an equal statement when comparing arrays.\n",
    "\n",
    "Remember to use Read-Search-Ask if you get stuck. Write your own code.\n",
    "\n",
    "Here are some helpful links:\n",
    "\n",
    "* [Comparison Operators](https://developer.mozilla.org/en-US/docs/Web/JavaScript/Reference/Operators/Comparison_Operators)"
   ]
  },
  {
   "cell_type": "markdown",
   "metadata": {},
   "source": [
    "## Starting Code:\n",
    "```javascript\n",
    "function largestOfFour(arr) {\n",
    "  // You can do this!\n",
    "  return arr;\n",
    "}\n",
    "largestOfFour([[4, 5, 1, 3], [13, 27, 18, 26], [32, 35, 37, 39], [1000, 1001, 857, 1]]);\n",
    "\n",
    "```"
   ]
  },
  {
   "cell_type": "markdown",
   "metadata": {},
   "source": [
    "## Tests"
   ]
  },
  {
   "cell_type": "code",
   "execution_count": 1,
   "metadata": {
    "collapsed": false
   },
   "outputs": [
    {
     "data": {
      "text/plain": [
       "undefined"
      ]
     },
     "execution_count": 1,
     "metadata": {},
     "output_type": "execute_result"
    }
   ],
   "source": [
    "var assert = require('chai').assert;\n",
    "function test(fn) {\n",
    "    assert.typeOf(fn([[4, 5, 1, 3], [13, 27, 18, 26], [32, 35, 37, 39], [1000, 1001, 857, 1]]), 'array');\n",
    "    assert.deepEqual(fn([[13, 27, 18, 26], [4, 5, 1, 3], [32, 35, 37, 39], [1000, 1001, 857, 1]]), [27,5,39,1001], 'arrays should match.');\n",
    "    assert.deepEqual(fn([[4, 9, 1, 3], [13, 35, 18, 26], [32, 35, 97, 39], [1000000, 1001, 857, 1]]), [9,35,97,1000000], 'arrays should match.');\n",
    "    return true\n",
    "}"
   ]
  },
  {
   "cell_type": "markdown",
   "metadata": {},
   "source": [
    "### Notes:\n",
    "* Why not use `Array.sort` to solve this problem?\n",
    "  1. `Array.sort` mutates the sorted array, changing the input. This problem could be solved by making shallow copies using `Array.splice` but is not efficient.\n",
    "  2. Sorting an array has a worse average time complexity, `O(n log n)`, than iterating the array and keeping track of the largest number,  linear `O(n)`."
   ]
  },
  {
   "cell_type": "markdown",
   "metadata": {},
   "source": [
    "## For loop:"
   ]
  },
  {
   "cell_type": "code",
   "execution_count": 2,
   "metadata": {
    "collapsed": false,
    "scrolled": true
   },
   "outputs": [
    {
     "data": {
      "text/plain": [
       "[ 5, 27, 39, 1001 ]"
      ]
     },
     "execution_count": 2,
     "metadata": {},
     "output_type": "execute_result"
    }
   ],
   "source": [
    "function largestOfFour(arr) {\n",
    "    var result = [];\n",
    "    for (var i = 0; i < arr.length; i++) {\n",
    "        var subArray = arr[i];\n",
    "        var largest = subArray[0];\n",
    "        for (var j = 1; j < subArray.length; j++) {\n",
    "            var currentElement = subArray[j];\n",
    "            if (largest < currentElement) {\n",
    "                largest = currentElement;\n",
    "            }\n",
    "        }\n",
    "        result.push(largest);\n",
    "    }\n",
    "    return result;\n",
    "}\n",
    "largestOfFour([[4, 5, 1, 3], [13, 27, 18, 26], [32, 35, 37, 39], [1000, 1001, 857, 1]]);"
   ]
  },
  {
   "cell_type": "code",
   "execution_count": 3,
   "metadata": {
    "collapsed": false
   },
   "outputs": [
    {
     "data": {
      "text/plain": [
       "true"
      ]
     },
     "execution_count": 3,
     "metadata": {},
     "output_type": "execute_result"
    }
   ],
   "source": [
    "test(largestOfFour);"
   ]
  },
  {
   "cell_type": "markdown",
   "metadata": {},
   "source": [
    "[Step-By-Step](http://www.pythontutor.com/javascript.html#code=function+largestOfFour(arr%29+%7B%0A++++var+result+%3D+%5B%5D%3B%0A++++for+(var+i+%3D+0%3B+i+%3C+arr.length%3B+i%2B%2B%29+%7B%0A++++++++var+subArray+%3D+arr%5Bi%5D%3B%0A++++++++var+largest+%3D+subArray%5B0%5D%3B%0A++++++++for+(var+j+%3D+1%3B+j+%3C+subArray.length%3B+j%2B%2B%29+%7B%0A++++++++++++var+currentElement+%3D+subArray%5Bj%5D%3B%0A++++++++++++if+(largest+%3C+currentElement%29+%7B%0A++++++++++++++++largest+%3D+currentElement%3B%0A++++++++++++%7D%0A++++++++%7D%0A++++++++result.push(largest%29%3B%0A++++%7D%0A++++return+result%3B%0A%7D%0A%0AlargestOfFour(%5B%5B4,+5,+1,+3%5D,+%5B13,+27,+18,+26%5D,+%5B32,+35,+37,+39%5D,+%5B1000,+1001,+857,+1%5D%5D%29%3B&mode=display&origin=opt-frontend.js&cumulative=false&heapPrimitives=false&textReferences=false&py=js&rawInputLstJSON=%5B%5D&curInstr=0)"
   ]
  },
  {
   "cell_type": "markdown",
   "metadata": {},
   "source": [
    "### Notes:\n",
    "* Declare and assign variable, `result`, to a starting value of an empty array, `[]`.\n",
    "\n",
    "---\n",
    "* The outer for loop is used to iterate over the elements of `arr`.\n",
    "* Inside the for loop declare and a assign variable, `subArray`, to the element `i` of `arr`.\n",
    "* Also declare and assign a variable, `largest`, to the first element of `subArray`.\n",
    "  - Note where this variable is declared. It is declared and assigned inside the outer for loop. This causes the variable to be declared and assigned in each iteration of the outer loop.\n",
    "  - Also note the value that we assigned the variable. We choose to assign the variable to the first element of `subArray` because this value will be compared to all the other values of the `subArray`.\n",
    "  - Starting this value with a value not in the array could possible cause problems.\n",
    "    + e.g. Assigning `largest` to `0` would return the wrong answer, `0`, if all elements in the `subArray` are negative.\n",
    "    \n",
    "---\n",
    "* The inner for loop is used to iterate over the elements of `subArray`, starting at index `1`.\n",
    "  - We start at index `1` because we already assigned the element at index `0` to largest.\n",
    "* Compare the `currentElement`, `subArray[j]`, to `largest`. If `largest` is smaller than `currentElement` then assign `currentElement` to `largest`.\n",
    "* When the inner for loop is done, `largest` will contain the largest element of `subArray`. [`.push`](https://developer.mozilla.org/en-US/docs/Web/JavaScript/Reference/Global_Objects/Array/push) this `largest` value to the `result` array.\n",
    "\n",
    "---\n",
    "* When the outer for loop is done, `result` will have an element for each `subArray` in `arr`. `return result`."
   ]
  },
  {
   "cell_type": "code",
   "execution_count": 4,
   "metadata": {
    "collapsed": false
   },
   "outputs": [
    {
     "data": {
      "text/plain": [
       "[ 5, 27, 39, 1001 ]"
      ]
     },
     "execution_count": 4,
     "metadata": {},
     "output_type": "execute_result"
    }
   ],
   "source": [
    "function largestOfFour(arr) {\n",
    "    var result = [];\n",
    "    for (var i = 0; i < arr.length; i++) {\n",
    "        var largest = arr[i][0];\n",
    "        for (var j = 1; j < arr[i].length; j++) {\n",
    "            if (largest < arr[i][j]) {\n",
    "                largest = arr[i][j];\n",
    "            }\n",
    "        }\n",
    "        result.push(largest);\n",
    "    }\n",
    "    return result;\n",
    "}\n",
    "largestOfFour([[4, 5, 1, 3], [13, 27, 18, 26], [32, 35, 37, 39], [1000, 1001, 857, 1]]);"
   ]
  },
  {
   "cell_type": "code",
   "execution_count": 5,
   "metadata": {
    "collapsed": false
   },
   "outputs": [
    {
     "data": {
      "text/plain": [
       "true"
      ]
     },
     "execution_count": 5,
     "metadata": {},
     "output_type": "execute_result"
    }
   ],
   "source": [
    "test(largestOfFour);"
   ]
  },
  {
   "cell_type": "markdown",
   "metadata": {},
   "source": [
    "[Step-By-Step](http://www.pythontutor.com/javascript.html#code=function+largestOfFour(arr%29+%7B%0A++++var+result+%3D+%5B%5D%3B%0A++++for+(var+i+%3D+0%3B+i+%3C+arr.length%3B+i%2B%2B%29+%7B%0A++++++++var+largest+%3D+arr%5Bi%5D%5B0%5D%3B%0A++++++++for+(var+j+%3D+1%3B+j+%3C+arr%5Bi%5D.length%3B+j%2B%2B%29+%7B%0A++++++++++++if+(largest+%3C+arr%5Bi%5D%5Bj%5D%29+%7B%0A++++++++++++++++largest+%3D+arr%5Bi%5D%5Bj%5D%3B%0A++++++++++++%7D%0A++++++++%7D%0A++++++++result.push(largest%29%3B%0A++++%7D%0A++++return+result%3B%0A%7D%0A%0AlargestOfFour(%5B%5B4,+5,+1,+3%5D,+%5B13,+27,+18,+26%5D,+%5B32,+35,+37,+39%5D,+%5B1000,+1001,+857,+1%5D%5D%29%3B&mode=display&origin=opt-frontend.js&cumulative=false&heapPrimitives=false&textReferences=false&py=js&rawInputLstJSON=%5B%5D&curInstr=0)"
   ]
  },
  {
   "cell_type": "markdown",
   "metadata": {},
   "source": [
    "### Notes:\n",
    "* The elements of the nested arrays can also be directly accessed using bracket notation on the result of using bracket notation on the outer array.\n",
    "  - `arr[i]` is element `i` of `arr`, in this case, an array. `arr[i][j]` is element `j` of element `i` of `arr`.  "
   ]
  },
  {
   "cell_type": "markdown",
   "metadata": {},
   "source": [
    "## While loop:"
   ]
  },
  {
   "cell_type": "code",
   "execution_count": 6,
   "metadata": {
    "collapsed": false
   },
   "outputs": [
    {
     "data": {
      "text/plain": [
       "[ 5, 27, 39, 1001 ]"
      ]
     },
     "execution_count": 6,
     "metadata": {},
     "output_type": "execute_result"
    }
   ],
   "source": [
    "function largestOfFour(arr) {\n",
    "    var result = new Array(arr.length);\n",
    "    var i = arr.length;\n",
    "    while (i--) {\n",
    "        result[i] = arr[i][0];\n",
    "        var j = arr[i].length;\n",
    "        while (j--) {\n",
    "            if (result[i] < arr[i][j]) {\n",
    "                result[i] = arr[i][j];\n",
    "            }\n",
    "        }\n",
    "    }\n",
    "    return result;\n",
    "}\n",
    "largestOfFour([[4, 5, 1, 3], [13, 27, 18, 26], [32, 35, 37, 39], [1000, 1001, 857, 1]]);"
   ]
  },
  {
   "cell_type": "code",
   "execution_count": 7,
   "metadata": {
    "collapsed": false
   },
   "outputs": [
    {
     "data": {
      "text/plain": [
       "true"
      ]
     },
     "execution_count": 7,
     "metadata": {},
     "output_type": "execute_result"
    }
   ],
   "source": [
    "test(largestOfFour);"
   ]
  },
  {
   "cell_type": "markdown",
   "metadata": {},
   "source": [
    "[Step-By-Step](http://www.pythontutor.com/javascript.html#code=function+largestOfFour(arr%29+%7B%0A++++var+result+%3D+new+Array(arr.length%29%3B%0A++++var+i+%3D+arr.length%3B%0A++++while+(i--%29+%7B%0A++++++++result%5Bi%5D+%3D+arr%5Bi%5D%5B0%5D%3B%0A++++++++var+j+%3D+arr%5Bi%5D.length%3B%0A++++++++while+(j--%29+%7B%0A++++++++++++if+(result%5Bi%5D+%3C+arr%5Bi%5D%5Bj%5D%29+%7B%0A++++++++++++++++result%5Bi%5D+%3D+arr%5Bi%5D%5Bj%5D%3B%0A++++++++++++%7D%0A++++++++%7D%0A++++%7D%0A++++return+result%3B%0A%7D%0A%0AlargestOfFour(%5B%5B4,+5,+1,+3%5D,+%5B13,+27,+18,+26%5D,+%5B32,+35,+37,+39%5D,+%5B1000,+1001,+857,+1%5D%5D%29%3B&mode=display&origin=opt-frontend.js&cumulative=false&heapPrimitives=false&textReferences=false&py=js&rawInputLstJSON=%5B%5D&curInstr=0)"
   ]
  },
  {
   "cell_type": "markdown",
   "metadata": {},
   "source": [
    "## Functional:"
   ]
  },
  {
   "cell_type": "code",
   "execution_count": 8,
   "metadata": {
    "collapsed": false
   },
   "outputs": [
    {
     "data": {
      "text/plain": [
       "[ 5, 27, 39, 1001 ]"
      ]
     },
     "execution_count": 8,
     "metadata": {},
     "output_type": "execute_result"
    }
   ],
   "source": [
    "function largestOfFour(arr) {\n",
    "    var result = arr.map(function(sub) {\n",
    "        var largest = Math.max.apply(null, sub);\n",
    "        return largest;\n",
    "    });\n",
    "    return result;\n",
    "}\n",
    "largestOfFour([[4, 5, 1, 3], [13, 27, 18, 26], [32, 35, 37, 39], [1000, 1001, 857, 1]]);"
   ]
  },
  {
   "cell_type": "code",
   "execution_count": 9,
   "metadata": {
    "collapsed": false
   },
   "outputs": [
    {
     "data": {
      "text/plain": [
       "true"
      ]
     },
     "execution_count": 9,
     "metadata": {},
     "output_type": "execute_result"
    }
   ],
   "source": [
    "test(largestOfFour);"
   ]
  },
  {
   "cell_type": "markdown",
   "metadata": {},
   "source": [
    "[Step-By-Step](http://www.pythontutor.com/javascript.html#code=function+largestOfFour(arr%29+%7B%0A++++var+result+%3D+arr.map(function(sub%29+%7B%0A++++++++var+largest+%3D+Math.max.apply(null,+sub%29%3B%0A++++++++return+largest%3B%0A++++%7D%29%3B%0A++++return+result%3B%0A%7D%0A%0AlargestOfFour(%5B%5B4,+5,+1,+3%5D,+%5B13,+27,+18,+26%5D,+%5B32,+35,+37,+39%5D,+%5B1000,+1001,+857,+1%5D%5D%29%3B&mode=display&origin=opt-frontend.js&cumulative=false&heapPrimitives=false&textReferences=false&py=js&rawInputLstJSON=%5B%5D&curInstr=0)"
   ]
  },
  {
   "cell_type": "code",
   "execution_count": 10,
   "metadata": {
    "collapsed": false,
    "scrolled": true
   },
   "outputs": [
    {
     "data": {
      "text/plain": [
       "[ 5, 27, 39, 1001 ]"
      ]
     },
     "execution_count": 10,
     "metadata": {},
     "output_type": "execute_result"
    }
   ],
   "source": [
    "function largestOfFour(arr) {\n",
    "  return arr.map(function(sub) {\n",
    "    return Math.max.apply(null, sub);\n",
    "  });\n",
    "}\n",
    "largestOfFour([[4, 5, 1, 3], [13, 27, 18, 26], [32, 35, 37, 39], [1000, 1001, 857, 1]]);"
   ]
  },
  {
   "cell_type": "code",
   "execution_count": 11,
   "metadata": {
    "collapsed": false
   },
   "outputs": [
    {
     "data": {
      "text/plain": [
       "true"
      ]
     },
     "execution_count": 11,
     "metadata": {},
     "output_type": "execute_result"
    }
   ],
   "source": [
    "test(largestOfFour);"
   ]
  },
  {
   "cell_type": "markdown",
   "metadata": {},
   "source": [
    "### Notes:\n",
    "* [Array.map](https://developer.mozilla.org/en-US/docs/Web/JavaScript/Reference/Global_Objects/Array/map)\n",
    "* [Math.max](https://developer.mozilla.org/en-US/docs/Web/JavaScript/Reference/Global_Objects/Math/max)\n",
    "* [Function.apply](https://developer.mozilla.org/en-US/docs/Web/JavaScript/Reference/Global_Objects/Function/apply)"
   ]
  }
 ],
 "metadata": {
  "kernelspec": {
   "display_name": "Javascript (Node.js)",
   "language": "javascript",
   "name": "javascript"
  },
  "language_info": {
   "file_extension": "js",
   "mimetype": "application/javascript",
   "name": "javascript",
   "version": "0.12.1"
  }
 },
 "nbformat": 4,
 "nbformat_minor": 0
}
