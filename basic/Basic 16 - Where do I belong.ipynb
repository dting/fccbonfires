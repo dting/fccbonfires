{
 "cells": [
  {
   "cell_type": "markdown",
   "metadata": {},
   "source": [
    "# [Bonfire: Where do I belong](http://freecodecamp.com/challenges/bonfire-where-do-i-belong)\n",
    "\n",
    "Return the lowest index at which a value (second argument) should be inserted into a sorted array (first argument).\n",
    "\n",
    "For example, `where([1,2,3,4], 1.5)` should return `1` because it is greater than `1` (`0`th index), but less than `2` (`1`st index).\n",
    "\n",
    "Remember to use Read-Search-Ask if you get stuck. Write your own code.\n",
    "\n",
    "Here are some helpful links:\n",
    "\n",
    "* [Array.sort()](https://developer.mozilla.org/en-US/docs/Web/JavaScript/Reference/Global_Objects/Array/sort)"
   ]
  },
  {
   "cell_type": "markdown",
   "metadata": {},
   "source": [
    "## Starting Code:\n",
    "```javascript\n",
    "function where(arr, num) {\n",
    "  // Find my place in this sorted array.\n",
    "  return num;\n",
    "}\n",
    "where([40, 60], 50);\n",
    "\n",
    "```"
   ]
  },
  {
   "cell_type": "markdown",
   "metadata": {},
   "source": [
    "## Tests"
   ]
  },
  {
   "cell_type": "code",
   "execution_count": 1,
   "metadata": {
    "collapsed": false
   },
   "outputs": [
    {
     "data": {
      "text/plain": [
       "undefined"
      ]
     },
     "execution_count": 1,
     "metadata": {},
     "output_type": "execute_result"
    }
   ],
   "source": [
    "var assert = require('chai').assert;\n",
    "function test(fn) {\n",
    "    assert.strictEqual(fn([10, 20, 30, 40, 50], 35), 3, '35 should be placed at index 3');\n",
    "    assert.strictEqual(fn([10, 20, 30, 40, 50], 30), 2, '30 should be placed at index 2');\n",
    "    assert.strictEqual(fn([40, 60], 50), 1, '50 should be placed at index 1');\n",
    "    assert.strictEqual(fn([5, 3, 20, 3], 3), 0, '3 should be placed at index 0');\n",
    "    assert.strictEqual(fn([2, 20, 10], 1), 0, '1 should be placed at index 0');\n",
    "    assert.strictEqual(fn([2, 5, 10], 15), 3, '15 should be placed at index 3');\n",
    "    return true\n",
    "}"
   ]
  },
  {
   "cell_type": "markdown",
   "metadata": {},
   "source": [
    "## For loop:"
   ]
  },
  {
   "cell_type": "code",
   "execution_count": 2,
   "metadata": {
    "collapsed": false
   },
   "outputs": [
    {
     "data": {
      "text/plain": [
       "1"
      ]
     },
     "execution_count": 2,
     "metadata": {},
     "output_type": "execute_result"
    }
   ],
   "source": [
    "function where(arr, num) {\n",
    "    for (var i = 0; i < arr.length; i++) {\n",
    "        if (num <= arr[i]) return i;\n",
    "    }\n",
    "    return arr.length;\n",
    "}\n",
    "where([40, 60], 50);"
   ]
  },
  {
   "cell_type": "code",
   "execution_count": 3,
   "metadata": {
    "collapsed": false
   },
   "outputs": [
    {
     "data": {
      "text/plain": [
       "true"
      ]
     },
     "execution_count": 3,
     "metadata": {},
     "output_type": "execute_result"
    }
   ],
   "source": [
    "test(where);"
   ]
  },
  {
   "cell_type": "markdown",
   "metadata": {},
   "source": [
    "[Step-By-Step](http://www.pythontutor.com/javascript.html#code=function+where(arr,+num%29+%7B%0A++for+(var+i+%3D+0%3B+i+%3C+arr.length%3B+i%2B%2B%29+%7B%0A++++if+(num+%3C%3D+arr%5Bi%5D%29+%7B%0A++++++return+i%3B%0A++++%7D%0A++%7D%0A++return+arr.length%3B%0A%7D%0A%0Awhere(%5B40,+60%5D,+50%29%3B&mode=display&origin=opt-frontend.js&cumulative=false&heapPrimitives=false&textReferences=false&py=js&rawInputLstJSON=%5B%5D&curInstr=0)"
   ]
  },
  {
   "cell_type": "markdown",
   "metadata": {},
   "source": [
    "### Notes:\n",
    "* Use for loop to iterate over the elements of array.\n",
    "* Inside the for loop if the element of array is greater than or equal to num, return the index, `i`. That is where num should be inserted.\n",
    "* If the for loop ends and the function has not yet returned, then `num` should be inserted at the end, `arr.length`."
   ]
  },
  {
   "cell_type": "markdown",
   "metadata": {},
   "source": [
    "## While loop:"
   ]
  },
  {
   "cell_type": "code",
   "execution_count": 4,
   "metadata": {
    "collapsed": false,
    "scrolled": true
   },
   "outputs": [
    {
     "data": {
      "text/plain": [
       "1"
      ]
     },
     "execution_count": 4,
     "metadata": {},
     "output_type": "execute_result"
    }
   ],
   "source": [
    "function where(arr, num) {\n",
    "  var cursor = 0;\n",
    "  while (cursor < arr.length && num > arr[cursor]) {\n",
    "      cursor++;\n",
    "  }\n",
    "  return cursor;\n",
    "}\n",
    "where([40, 60], 50);"
   ]
  },
  {
   "cell_type": "code",
   "execution_count": 5,
   "metadata": {
    "collapsed": false
   },
   "outputs": [
    {
     "data": {
      "text/plain": [
       "true"
      ]
     },
     "execution_count": 5,
     "metadata": {},
     "output_type": "execute_result"
    }
   ],
   "source": [
    "test(where);"
   ]
  },
  {
   "cell_type": "markdown",
   "metadata": {},
   "source": [
    "[Step-By-Step](http://www.pythontutor.com/javascript.html#code=function+where(arr,+num%29+%7B%0A++var+cursor+%3D+0%3B%0A++while+(cursor+%3C+arr.length+%26%26+num+%3E+arr%5Bcursor%5D%29+%7B%0A++++++cursor%2B%2B%3B%0A++%7D%0A++return+cursor%3B%0A%7D%0A%0Awhere(%5B40,+60%5D,+50%29%3B&mode=display&origin=opt-frontend.js&cumulative=false&heapPrimitives=false&textReferences=false&py=js&rawInputLstJSON=%5B%5D&curInstr=0)"
   ]
  },
  {
   "cell_type": "markdown",
   "metadata": {},
   "source": [
    "### Notes:\n",
    "* Declare and assign a variable, `cursor`, with starting value `0`. This will be used to track where the num should be inserted.\n",
    "* The while loop runs while `cursor < arr.length` and `num > arr[cursor]`. For each iteration increment `cursor`.\n",
    "* When the loop finishes, the `cursor` has the value of the index where `num` should be inserted, `return cursor`."
   ]
  },
  {
   "cell_type": "markdown",
   "metadata": {},
   "source": [
    "## Functional:"
   ]
  },
  {
   "cell_type": "markdown",
   "metadata": {},
   "source": [
    "### Notes:\n",
    "* Using `.sort` will result in `O(n log n)` time complexity. The while loop solution has a linear time complexity, `O(n)`."
   ]
  },
  {
   "cell_type": "code",
   "execution_count": 6,
   "metadata": {
    "collapsed": false
   },
   "outputs": [
    {
     "data": {
      "text/plain": [
       "1"
      ]
     },
     "execution_count": 6,
     "metadata": {},
     "output_type": "execute_result"
    }
   ],
   "source": [
    "function where(arr, num) {\n",
    "    var nArr = arr.concat([num]);\n",
    "    nArr.sort(function(a, b) {\n",
    "        return a - b;\n",
    "    });\n",
    "    return nArr.indexOf(num);\n",
    "}\n",
    "where([40, 60], 50);"
   ]
  },
  {
   "cell_type": "code",
   "execution_count": 7,
   "metadata": {
    "collapsed": false,
    "scrolled": true
   },
   "outputs": [
    {
     "data": {
      "text/plain": [
       "true"
      ]
     },
     "execution_count": 7,
     "metadata": {},
     "output_type": "execute_result"
    }
   ],
   "source": [
    "test(where);"
   ]
  },
  {
   "cell_type": "markdown",
   "metadata": {},
   "source": [
    "[Step-By-Step](http://www.pythontutor.com/javascript.html#code=function+where(arr,+num%29+%7B%0A++++var+nArr+%3D+arr.concat(%5Bnum%5D%29%3B%0A++++nArr.sort(function(a,+b%29+%7B%0A++++++++return+a+-+b%3B%0A++++%7D%29%3B%0A++++return+nArr.indexOf(num%29%3B%0A%7D%0A%0Awhere(%5B40,+60%5D,+50%29%3B&mode=display&origin=opt-frontend.js&cumulative=false&heapPrimitives=false&textReferences=false&py=js&rawInputLstJSON=%5B%5D&curInstr=0)"
   ]
  },
  {
   "cell_type": "markdown",
   "metadata": {},
   "source": [
    "### Notes:\n",
    "* As to not mutate the input array, `arr`, we use `arr.concat` with an array containing `num`, `[num]`. This returns a copy of `arr` with `num` concatenated to the end.\n",
    "* We use [`.sort`](https://developer.mozilla.org/en-US/docs/Web/JavaScript/Reference/Global_Objects/Array/sort) on this new array, `nArr` with a compare callback function.\n",
    "  - Without a compare callback function, sort will:\n",
    "    > If compareFunction is not supplied, elements are sorted by converting them to strings and comparing strings in Unicode code point order. For example, \"Cherry\" comes before \"banana\". In a numeric sort, 9 comes before 80, but because numbers are converted to strings, \"80\" comes before \"9\" in Unicode order.\n",
    "* After the array, `nArr`, is sorted, we use `.indexOf` with `num` to determine the `index` that `num` should be inserted. `return nArr.indexOf(num)`."
   ]
  },
  {
   "cell_type": "code",
   "execution_count": 8,
   "metadata": {
    "collapsed": false,
    "scrolled": true
   },
   "outputs": [
    {
     "data": {
      "text/plain": [
       "1"
      ]
     },
     "execution_count": 8,
     "metadata": {},
     "output_type": "execute_result"
    }
   ],
   "source": [
    "function where(arr, num) {\n",
    "    return arr.concat([num])\n",
    "        .sort(function(a, b) {\n",
    "            return a - b;\n",
    "        })\n",
    "        .indexOf(num);\n",
    "}\n",
    "where([40, 60], 50);"
   ]
  },
  {
   "cell_type": "code",
   "execution_count": 9,
   "metadata": {
    "collapsed": false,
    "scrolled": true
   },
   "outputs": [
    {
     "data": {
      "text/plain": [
       "true"
      ]
     },
     "execution_count": 9,
     "metadata": {},
     "output_type": "execute_result"
    }
   ],
   "source": [
    "test(where);"
   ]
  }
 ],
 "metadata": {
  "kernelspec": {
   "display_name": "Javascript (Node.js)",
   "language": "javascript",
   "name": "javascript"
  },
  "language_info": {
   "file_extension": "js",
   "mimetype": "application/javascript",
   "name": "javascript",
   "version": "0.12.1"
  }
 },
 "nbformat": 4,
 "nbformat_minor": 0
}
